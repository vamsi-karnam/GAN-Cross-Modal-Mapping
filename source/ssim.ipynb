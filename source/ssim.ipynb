{
 "cells": [
  {
   "cell_type": "code",
   "execution_count": null,
   "metadata": {},
   "outputs": [],
   "source": [
    "import cv2\n",
    "import os\n",
    "import matplotlib.pyplot as plt\n",
    "import numpy as np\n",
    "from tqdm.notebook import tqdm"
   ]
  },
  {
   "cell_type": "code",
   "execution_count": null,
   "metadata": {},
   "outputs": [],
   "source": [
    "folder_original = 'Sonar test 2\\sonar_data_test'\n",
    "folder_augmented = 'Sonar test 2\\sonar_data_augmented'\n",
    "\n",
    "images1 = os.listdir(folder_original)\n",
    "images2 = os.listdir(folder_augmented)\n",
    "\n",
    "ssim_values = []\n",
    "\n",
    "for img1, img2 in tqdm(zip(images1, images2)):\n",
    "    image1 = cv2.imread(os.path.join(folder_original, img1))\n",
    "    image2 = cv2.imread(os.path.join(folder_augmented, img2))\n",
    "    \n",
    "    # Resize image1 to 512x150\n",
    "    image1_resized = cv2.resize(image1, (512, 150))\n",
    "    \n",
    "    # Compute SSIM only on the right half of the images\n",
    "    image1_gray = cv2.cvtColor(image1_resized[:, 256:], cv2.COLOR_BGR2GRAY)\n",
    "    image2_gray = cv2.cvtColor(image2[:, 256:], cv2.COLOR_BGR2GRAY)\n",
    "    \n",
    "    # Convert histograms to CV_32F data type\n",
    "    image1_hist = cv2.calcHist([image1_gray], [0], None, [256], [0, 256]).astype(np.float32)\n",
    "    image2_hist = cv2.calcHist([image2_gray], [0], None, [256], [0, 256]).astype(np.float32)\n",
    "\n",
    "    score = cv2.compareHist(image1_hist, image2_hist, cv2.HISTCMP_BHATTACHARYYA)\n",
    "    ssim_values.append(score)\n",
    "\n",
    "average_ssim = np.mean(ssim_values)\n",
    "\n",
    "plt.figure(dpi=300)\n",
    "plt.hist(ssim_values, bins=20)\n",
    "plt.xlabel('SSIM Value')\n",
    "plt.ylabel('Image Count')\n",
    "plt.title(f'Average SSIM: {average_ssim:.4f}')\n",
    "plt.show()"
   ]
  }
 ],
 "metadata": {
  "kernelspec": {
   "display_name": "Python 3 (ipykernel)",
   "language": "python",
   "name": "python3"
  },
  "language_info": {
   "codemirror_mode": {
    "name": "ipython",
    "version": 3
   },
   "file_extension": ".py",
   "mimetype": "text/x-python",
   "name": "python",
   "nbconvert_exporter": "python",
   "pygments_lexer": "ipython3",
   "version": "3.10.11"
  }
 },
 "nbformat": 4,
 "nbformat_minor": 2
}
