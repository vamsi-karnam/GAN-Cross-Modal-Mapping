{
 "cells": [
  {
   "cell_type": "code",
   "execution_count": null,
   "id": "5e755ac8",
   "metadata": {},
   "outputs": [],
   "source": [
    "import os\n",
    "import cv2\n",
    "from tqdm.notebook import tqdm"
   ]
  },
  {
   "cell_type": "code",
   "execution_count": null,
   "id": "45c9d4e1",
   "metadata": {},
   "outputs": [],
   "source": [
    "input_folder = 'sonar_train'\n",
    "output_folder = 'sonar_data_train'\n",
    "\n",
    "clahe = cv2.createCLAHE(clipLimit = 4, tileGridSize = (8,8))\n",
    "\n",
    "for image_name in tqdm(os.listdir(input_folder)):\n",
    "    if image_name.endswith('.jpg'):\n",
    "        image_path = os.path.join(input_folder, image_name)\n",
    "        img_org = cv2.imread(image_path)\n",
    "        img_lab = cv2.cvtColor(img_org, cv2.COLOR_RGB2Lab)\n",
    "        img_lab[:,1024:,0] = clahe.apply(img_lab[:,1024:,0])\n",
    "        img_clahe = cv2.cvtColor(img_lab, cv2.COLOR_Lab2RGB)\n",
    "        output_path = os.path.join(output_folder, image_name)\n",
    "        cv2.imwrite(output_path, img_clahe)"
   ]
  }
 ],
 "metadata": {
  "kernelspec": {
   "display_name": "Python 3 (ipykernel)",
   "language": "python",
   "name": "python3"
  },
  "language_info": {
   "codemirror_mode": {
    "name": "ipython",
    "version": 3
   },
   "file_extension": ".py",
   "mimetype": "text/x-python",
   "name": "python",
   "nbconvert_exporter": "python",
   "pygments_lexer": "ipython3",
   "version": "3.10.11"
  }
 },
 "nbformat": 4,
 "nbformat_minor": 5
}
